{
  "cells": [
    {
      "cell_type": "code",
      "execution_count": null,
      "id": "5e3190e6",
      "metadata": {
        "execution": {
          "iopub.execute_input": "2022-07-25T14:59:43.444535Z",
          "iopub.status.busy": "2022-07-25T14:59:43.443657Z",
          "iopub.status.idle": "2022-07-25T14:59:49.384534Z",
          "shell.execute_reply": "2022-07-25T14:59:49.383349Z"
        },
        "papermill": {
          "duration": 5.956353,
          "end_time": "2022-07-25T14:59:49.387514",
          "exception": false,
          "start_time": "2022-07-25T14:59:43.431161",
          "status": "completed"
        },
        "tags": [],
        "id": "5e3190e6"
      },
      "outputs": [],
      "source": [
        "import pandas as pd\n",
        "import matplotlib.pyplot as plt\n",
        "import numpy as np\n",
        "import tensorflow as tf"
      ]
    },
    {
      "cell_type": "code",
      "execution_count": null,
      "id": "0ba04e88",
      "metadata": {
        "execution": {
          "iopub.execute_input": "2022-07-25T14:59:49.430843Z",
          "iopub.status.busy": "2022-07-25T14:59:49.430205Z",
          "iopub.status.idle": "2022-07-25T14:59:49.470279Z",
          "shell.execute_reply": "2022-07-25T14:59:49.469287Z"
        },
        "papermill": {
          "duration": 0.054409,
          "end_time": "2022-07-25T14:59:49.472710",
          "exception": false,
          "start_time": "2022-07-25T14:59:49.418301",
          "status": "completed"
        },
        "tags": [],
        "id": "0ba04e88",
        "outputId": "0ed3cba1-024c-4b57-f75e-979d35e7101e"
      },
      "outputs": [
        {
          "data": {
            "text/html": [
              "<div>\n",
              "<style scoped>\n",
              "    .dataframe tbody tr th:only-of-type {\n",
              "        vertical-align: middle;\n",
              "    }\n",
              "\n",
              "    .dataframe tbody tr th {\n",
              "        vertical-align: top;\n",
              "    }\n",
              "\n",
              "    .dataframe thead th {\n",
              "        text-align: right;\n",
              "    }\n",
              "</style>\n",
              "<table border=\"1\" class=\"dataframe\">\n",
              "  <thead>\n",
              "    <tr style=\"text-align: right;\">\n",
              "      <th></th>\n",
              "      <th>age</th>\n",
              "      <th>sex</th>\n",
              "      <th>cp</th>\n",
              "      <th>trtbps</th>\n",
              "      <th>chol</th>\n",
              "      <th>fbs</th>\n",
              "      <th>restecg</th>\n",
              "      <th>thalachh</th>\n",
              "      <th>exng</th>\n",
              "      <th>oldpeak</th>\n",
              "      <th>slp</th>\n",
              "      <th>caa</th>\n",
              "      <th>thall</th>\n",
              "      <th>output</th>\n",
              "    </tr>\n",
              "  </thead>\n",
              "  <tbody>\n",
              "    <tr>\n",
              "      <th>0</th>\n",
              "      <td>63</td>\n",
              "      <td>1</td>\n",
              "      <td>3</td>\n",
              "      <td>145</td>\n",
              "      <td>233</td>\n",
              "      <td>1</td>\n",
              "      <td>0</td>\n",
              "      <td>150</td>\n",
              "      <td>0</td>\n",
              "      <td>2.3</td>\n",
              "      <td>0</td>\n",
              "      <td>0</td>\n",
              "      <td>1</td>\n",
              "      <td>1</td>\n",
              "    </tr>\n",
              "    <tr>\n",
              "      <th>1</th>\n",
              "      <td>37</td>\n",
              "      <td>1</td>\n",
              "      <td>2</td>\n",
              "      <td>130</td>\n",
              "      <td>250</td>\n",
              "      <td>0</td>\n",
              "      <td>1</td>\n",
              "      <td>187</td>\n",
              "      <td>0</td>\n",
              "      <td>3.5</td>\n",
              "      <td>0</td>\n",
              "      <td>0</td>\n",
              "      <td>2</td>\n",
              "      <td>1</td>\n",
              "    </tr>\n",
              "    <tr>\n",
              "      <th>2</th>\n",
              "      <td>41</td>\n",
              "      <td>0</td>\n",
              "      <td>1</td>\n",
              "      <td>130</td>\n",
              "      <td>204</td>\n",
              "      <td>0</td>\n",
              "      <td>0</td>\n",
              "      <td>172</td>\n",
              "      <td>0</td>\n",
              "      <td>1.4</td>\n",
              "      <td>2</td>\n",
              "      <td>0</td>\n",
              "      <td>2</td>\n",
              "      <td>1</td>\n",
              "    </tr>\n",
              "    <tr>\n",
              "      <th>3</th>\n",
              "      <td>56</td>\n",
              "      <td>1</td>\n",
              "      <td>1</td>\n",
              "      <td>120</td>\n",
              "      <td>236</td>\n",
              "      <td>0</td>\n",
              "      <td>1</td>\n",
              "      <td>178</td>\n",
              "      <td>0</td>\n",
              "      <td>0.8</td>\n",
              "      <td>2</td>\n",
              "      <td>0</td>\n",
              "      <td>2</td>\n",
              "      <td>1</td>\n",
              "    </tr>\n",
              "    <tr>\n",
              "      <th>4</th>\n",
              "      <td>57</td>\n",
              "      <td>0</td>\n",
              "      <td>0</td>\n",
              "      <td>120</td>\n",
              "      <td>354</td>\n",
              "      <td>0</td>\n",
              "      <td>1</td>\n",
              "      <td>163</td>\n",
              "      <td>1</td>\n",
              "      <td>0.6</td>\n",
              "      <td>2</td>\n",
              "      <td>0</td>\n",
              "      <td>2</td>\n",
              "      <td>1</td>\n",
              "    </tr>\n",
              "  </tbody>\n",
              "</table>\n",
              "</div>"
            ],
            "text/plain": [
              "   age  sex  cp  trtbps  chol  fbs  restecg  thalachh  exng  oldpeak  slp  \\\n",
              "0   63    1   3     145   233    1        0       150     0      2.3    0   \n",
              "1   37    1   2     130   250    0        1       187     0      3.5    0   \n",
              "2   41    0   1     130   204    0        0       172     0      1.4    2   \n",
              "3   56    1   1     120   236    0        1       178     0      0.8    2   \n",
              "4   57    0   0     120   354    0        1       163     1      0.6    2   \n",
              "\n",
              "   caa  thall  output  \n",
              "0    0      1       1  \n",
              "1    0      2       1  \n",
              "2    0      2       1  \n",
              "3    0      2       1  \n",
              "4    0      2       1  "
            ]
          },
          "execution_count": 2,
          "metadata": {},
          "output_type": "execute_result"
        }
      ],
      "source": [
        "df = pd.read_csv(\"../input/heart-attack-analysis-prediction-dataset/heart.csv\")\n",
        "df.head()"
      ]
    },
    {
      "cell_type": "code",
      "execution_count": null,
      "id": "adba7edd",
      "metadata": {
        "execution": {
          "iopub.execute_input": "2022-07-25T14:59:49.515937Z",
          "iopub.status.busy": "2022-07-25T14:59:49.515257Z",
          "iopub.status.idle": "2022-07-25T14:59:49.570621Z",
          "shell.execute_reply": "2022-07-25T14:59:49.569085Z"
        },
        "papermill": {
          "duration": 0.070366,
          "end_time": "2022-07-25T14:59:49.573702",
          "exception": false,
          "start_time": "2022-07-25T14:59:49.503336",
          "status": "completed"
        },
        "tags": [],
        "id": "adba7edd",
        "outputId": "52c51228-3174-41b1-a3e1-588da6631d08"
      },
      "outputs": [
        {
          "name": "stdout",
          "output_type": "stream",
          "text": [
            "Shape is: (303, 14)\n",
            "==================================================\n",
            "Summary statistics:               age         sex          cp      trtbps        chol         fbs  \\\n",
            "count  303.000000  303.000000  303.000000  303.000000  303.000000  303.000000   \n",
            "mean    54.366337    0.683168    0.966997  131.623762  246.264026    0.148515   \n",
            "std      9.082101    0.466011    1.032052   17.538143   51.830751    0.356198   \n",
            "min     29.000000    0.000000    0.000000   94.000000  126.000000    0.000000   \n",
            "25%     47.500000    0.000000    0.000000  120.000000  211.000000    0.000000   \n",
            "50%     55.000000    1.000000    1.000000  130.000000  240.000000    0.000000   \n",
            "75%     61.000000    1.000000    2.000000  140.000000  274.500000    0.000000   \n",
            "max     77.000000    1.000000    3.000000  200.000000  564.000000    1.000000   \n",
            "\n",
            "          restecg    thalachh        exng     oldpeak         slp         caa  \\\n",
            "count  303.000000  303.000000  303.000000  303.000000  303.000000  303.000000   \n",
            "mean     0.528053  149.646865    0.326733    1.039604    1.399340    0.729373   \n",
            "std      0.525860   22.905161    0.469794    1.161075    0.616226    1.022606   \n",
            "min      0.000000   71.000000    0.000000    0.000000    0.000000    0.000000   \n",
            "25%      0.000000  133.500000    0.000000    0.000000    1.000000    0.000000   \n",
            "50%      1.000000  153.000000    0.000000    0.800000    1.000000    0.000000   \n",
            "75%      1.000000  166.000000    1.000000    1.600000    2.000000    1.000000   \n",
            "max      2.000000  202.000000    1.000000    6.200000    2.000000    4.000000   \n",
            "\n",
            "            thall      output  \n",
            "count  303.000000  303.000000  \n",
            "mean     2.313531    0.544554  \n",
            "std      0.612277    0.498835  \n",
            "min      0.000000    0.000000  \n",
            "25%      2.000000    0.000000  \n",
            "50%      2.000000    1.000000  \n",
            "75%      3.000000    1.000000  \n",
            "max      3.000000    1.000000  \n"
          ]
        }
      ],
      "source": [
        "#shape and description\n",
        "print(f\"Shape is: {df.shape}\")\n",
        "print(\"==================================================\")\n",
        "print(f\"Summary statistics: {df.describe()}\")"
      ]
    },
    {
      "cell_type": "code",
      "execution_count": null,
      "id": "c39b5328",
      "metadata": {
        "execution": {
          "iopub.execute_input": "2022-07-25T14:59:49.619083Z",
          "iopub.status.busy": "2022-07-25T14:59:49.618216Z",
          "iopub.status.idle": "2022-07-25T14:59:49.627361Z",
          "shell.execute_reply": "2022-07-25T14:59:49.626093Z"
        },
        "papermill": {
          "duration": 0.023342,
          "end_time": "2022-07-25T14:59:49.629665",
          "exception": false,
          "start_time": "2022-07-25T14:59:49.606323",
          "status": "completed"
        },
        "tags": [],
        "id": "c39b5328",
        "outputId": "5774c532-3f82-4f7a-8a0c-80c79582b79a"
      },
      "outputs": [
        {
          "data": {
            "text/plain": [
              "age         0\n",
              "sex         0\n",
              "cp          0\n",
              "trtbps      0\n",
              "chol        0\n",
              "fbs         0\n",
              "restecg     0\n",
              "thalachh    0\n",
              "exng        0\n",
              "oldpeak     0\n",
              "slp         0\n",
              "caa         0\n",
              "thall       0\n",
              "output      0\n",
              "dtype: int64"
            ]
          },
          "execution_count": 4,
          "metadata": {},
          "output_type": "execute_result"
        }
      ],
      "source": [
        "#check for missing values\n",
        "df.isnull().sum()"
      ]
    },
    {
      "cell_type": "code",
      "execution_count": null,
      "id": "186c17b0",
      "metadata": {
        "execution": {
          "iopub.execute_input": "2022-07-25T14:59:49.653606Z",
          "iopub.status.busy": "2022-07-25T14:59:49.652868Z",
          "iopub.status.idle": "2022-07-25T14:59:49.660124Z",
          "shell.execute_reply": "2022-07-25T14:59:49.659136Z"
        },
        "papermill": {
          "duration": 0.021454,
          "end_time": "2022-07-25T14:59:49.662618",
          "exception": false,
          "start_time": "2022-07-25T14:59:49.641164",
          "status": "completed"
        },
        "tags": [],
        "id": "186c17b0",
        "outputId": "3ad2d4ee-54e1-4ca1-a63a-17cb9f474f36"
      },
      "outputs": [
        {
          "data": {
            "text/plain": [
              "array([145, 130, 120, 140, 172, 150, 110, 135, 160, 105, 125, 142, 155,\n",
              "       104, 138, 128, 108, 134, 122, 115, 118, 100, 124,  94, 112, 102,\n",
              "       152, 101, 132, 148, 178, 129, 180, 136, 126, 106, 156, 170, 146,\n",
              "       117, 200, 165, 174, 192, 144, 123, 154, 114, 164])"
            ]
          },
          "execution_count": 5,
          "metadata": {},
          "output_type": "execute_result"
        }
      ],
      "source": [
        "df['trtbps'].unique()"
      ]
    },
    {
      "cell_type": "code",
      "execution_count": null,
      "id": "7e1500e2",
      "metadata": {
        "execution": {
          "iopub.execute_input": "2022-07-25T14:59:49.686834Z",
          "iopub.status.busy": "2022-07-25T14:59:49.686085Z",
          "iopub.status.idle": "2022-07-25T14:59:49.691403Z",
          "shell.execute_reply": "2022-07-25T14:59:49.690281Z"
        },
        "papermill": {
          "duration": 0.019835,
          "end_time": "2022-07-25T14:59:49.693876",
          "exception": false,
          "start_time": "2022-07-25T14:59:49.674041",
          "status": "completed"
        },
        "tags": [],
        "id": "7e1500e2"
      },
      "outputs": [],
      "source": [
        "#replace Null by 120\n",
        "df['trtbps'].fillna(value=120,inplace=True)"
      ]
    },
    {
      "cell_type": "code",
      "execution_count": null,
      "id": "aea850d8",
      "metadata": {
        "execution": {
          "iopub.execute_input": "2022-07-25T14:59:49.717840Z",
          "iopub.status.busy": "2022-07-25T14:59:49.717152Z",
          "iopub.status.idle": "2022-07-25T14:59:49.724073Z",
          "shell.execute_reply": "2022-07-25T14:59:49.722841Z"
        },
        "papermill": {
          "duration": 0.021502,
          "end_time": "2022-07-25T14:59:49.726315",
          "exception": false,
          "start_time": "2022-07-25T14:59:49.704813",
          "status": "completed"
        },
        "tags": [],
        "id": "aea850d8",
        "outputId": "4ce21b95-de5b-40a7-8d41-1c8131501a12"
      },
      "outputs": [
        {
          "data": {
            "text/plain": [
              "array([145, 130, 120, 140, 172, 150, 110, 135, 160, 105, 125, 142, 155,\n",
              "       104, 138, 128, 108, 134, 122, 115, 118, 100, 124,  94, 112, 102,\n",
              "       152, 101, 132, 148, 178, 129, 180, 136, 126, 106, 156, 170, 146,\n",
              "       117, 200, 165, 174, 192, 144, 123, 154, 114, 164])"
            ]
          },
          "execution_count": 7,
          "metadata": {},
          "output_type": "execute_result"
        }
      ],
      "source": [
        "df['trtbps'].unique()"
      ]
    },
    {
      "cell_type": "code",
      "execution_count": null,
      "id": "0aa8049b",
      "metadata": {
        "execution": {
          "iopub.execute_input": "2022-07-25T14:59:49.749757Z",
          "iopub.status.busy": "2022-07-25T14:59:49.749085Z",
          "iopub.status.idle": "2022-07-25T14:59:49.757711Z",
          "shell.execute_reply": "2022-07-25T14:59:49.756539Z"
        },
        "papermill": {
          "duration": 0.022817,
          "end_time": "2022-07-25T14:59:49.759988",
          "exception": false,
          "start_time": "2022-07-25T14:59:49.737171",
          "status": "completed"
        },
        "tags": [],
        "id": "0aa8049b",
        "outputId": "c67a3c87-bc32-491b-ca95-2d92b79d2d81"
      },
      "outputs": [
        {
          "data": {
            "text/plain": [
              "age         False\n",
              "sex         False\n",
              "cp          False\n",
              "trtbps      False\n",
              "chol        False\n",
              "fbs         False\n",
              "restecg     False\n",
              "thalachh    False\n",
              "exng        False\n",
              "oldpeak     False\n",
              "slp         False\n",
              "caa         False\n",
              "thall       False\n",
              "output      False\n",
              "dtype: bool"
            ]
          },
          "execution_count": 8,
          "metadata": {},
          "output_type": "execute_result"
        }
      ],
      "source": [
        "# Recheck for Null in the dataset\n",
        "df.isna().any()"
      ]
    },
    {
      "cell_type": "code",
      "execution_count": null,
      "id": "cfaec704",
      "metadata": {
        "execution": {
          "iopub.execute_input": "2022-07-25T14:59:49.783909Z",
          "iopub.status.busy": "2022-07-25T14:59:49.782988Z",
          "iopub.status.idle": "2022-07-25T14:59:49.792048Z",
          "shell.execute_reply": "2022-07-25T14:59:49.791048Z"
        },
        "papermill": {
          "duration": 0.023408,
          "end_time": "2022-07-25T14:59:49.794367",
          "exception": false,
          "start_time": "2022-07-25T14:59:49.770959",
          "status": "completed"
        },
        "tags": [],
        "id": "cfaec704",
        "outputId": "c322fef3-31a0-4b11-fb6a-1d1127f7a768"
      },
      "outputs": [
        {
          "data": {
            "text/plain": [
              "1    165\n",
              "0    138\n",
              "Name: output, dtype: int64"
            ]
          },
          "execution_count": 9,
          "metadata": {},
          "output_type": "execute_result"
        }
      ],
      "source": [
        "#checking if the data is imbalanced\n",
        "df.output.value_counts()"
      ]
    },
    {
      "cell_type": "code",
      "execution_count": null,
      "id": "300e6a1e",
      "metadata": {
        "execution": {
          "iopub.execute_input": "2022-07-25T14:59:49.818439Z",
          "iopub.status.busy": "2022-07-25T14:59:49.817542Z",
          "iopub.status.idle": "2022-07-25T14:59:49.829865Z",
          "shell.execute_reply": "2022-07-25T14:59:49.829083Z"
        },
        "papermill": {
          "duration": 0.02673,
          "end_time": "2022-07-25T14:59:49.832085",
          "exception": false,
          "start_time": "2022-07-25T14:59:49.805355",
          "status": "completed"
        },
        "tags": [],
        "id": "300e6a1e",
        "outputId": "22765677-1ef6-47cf-de98-c830dc78c6c2"
      },
      "outputs": [
        {
          "data": {
            "text/plain": [
              "output      1.000000\n",
              "exng        0.436757\n",
              "cp          0.433798\n",
              "oldpeak     0.430696\n",
              "thalachh    0.421741\n",
              "caa         0.391724\n",
              "slp         0.345877\n",
              "thall       0.344029\n",
              "sex         0.280937\n",
              "age         0.225439\n",
              "trtbps      0.144931\n",
              "restecg     0.137230\n",
              "chol        0.085239\n",
              "fbs         0.028046\n",
              "Name: output, dtype: float64"
            ]
          },
          "execution_count": 10,
          "metadata": {},
          "output_type": "execute_result"
        }
      ],
      "source": [
        "#checking the maximum correlation of the output with other variables\n",
        "df.corr().abs()['output'].sort_values(ascending = False)"
      ]
    },
    {
      "cell_type": "code",
      "execution_count": null,
      "id": "208e2933",
      "metadata": {
        "execution": {
          "iopub.execute_input": "2022-07-25T14:59:49.880337Z",
          "iopub.status.busy": "2022-07-25T14:59:49.879471Z",
          "iopub.status.idle": "2022-07-25T14:59:49.895088Z",
          "shell.execute_reply": "2022-07-25T14:59:49.894208Z"
        },
        "papermill": {
          "duration": 0.030942,
          "end_time": "2022-07-25T14:59:49.897329",
          "exception": false,
          "start_time": "2022-07-25T14:59:49.866387",
          "status": "completed"
        },
        "tags": [],
        "id": "208e2933",
        "outputId": "afe64f36-5998-49c1-96c5-f6024d302733"
      },
      "outputs": [
        {
          "data": {
            "text/plain": [
              "(302, 14)"
            ]
          },
          "execution_count": 11,
          "metadata": {},
          "output_type": "execute_result"
        }
      ],
      "source": [
        "df[df.duplicated()]\n",
        "df.drop_duplicates(keep='first',inplace=True)\n",
        "df.shape"
      ]
    },
    {
      "cell_type": "code",
      "execution_count": null,
      "id": "2be7145b",
      "metadata": {
        "execution": {
          "iopub.execute_input": "2022-07-25T14:59:49.946553Z",
          "iopub.status.busy": "2022-07-25T14:59:49.945185Z",
          "iopub.status.idle": "2022-07-25T14:59:49.953016Z",
          "shell.execute_reply": "2022-07-25T14:59:49.952138Z"
        },
        "papermill": {
          "duration": 0.023705,
          "end_time": "2022-07-25T14:59:49.955523",
          "exception": false,
          "start_time": "2022-07-25T14:59:49.931818",
          "status": "completed"
        },
        "tags": [],
        "id": "2be7145b"
      },
      "outputs": [],
      "source": [
        "X = df.drop('output', axis = 1)\n",
        "y = df['output']"
      ]
    },
    {
      "cell_type": "code",
      "execution_count": null,
      "id": "10443d1b",
      "metadata": {
        "execution": {
          "iopub.execute_input": "2022-07-25T14:59:49.980762Z",
          "iopub.status.busy": "2022-07-25T14:59:49.980043Z",
          "iopub.status.idle": "2022-07-25T14:59:50.764435Z",
          "shell.execute_reply": "2022-07-25T14:59:50.763077Z"
        },
        "papermill": {
          "duration": 0.80028,
          "end_time": "2022-07-25T14:59:50.767214",
          "exception": false,
          "start_time": "2022-07-25T14:59:49.966934",
          "status": "completed"
        },
        "tags": [],
        "id": "10443d1b"
      },
      "outputs": [],
      "source": [
        "from sklearn.model_selection import train_test_split\n",
        "from sklearn.metrics import accuracy_score\n",
        "\n",
        "X_train, X_test, y_train, y_test = train_test_split(X, y, test_size = 0.2, random_state = 42)"
      ]
    },
    {
      "cell_type": "code",
      "execution_count": null,
      "id": "aa4bdc6e",
      "metadata": {
        "execution": {
          "iopub.execute_input": "2022-07-25T14:59:50.814321Z",
          "iopub.status.busy": "2022-07-25T14:59:50.813587Z",
          "iopub.status.idle": "2022-07-25T14:59:50.820798Z",
          "shell.execute_reply": "2022-07-25T14:59:50.819653Z"
        },
        "papermill": {
          "duration": 0.022477,
          "end_time": "2022-07-25T14:59:50.823631",
          "exception": false,
          "start_time": "2022-07-25T14:59:50.801154",
          "status": "completed"
        },
        "tags": [],
        "id": "aa4bdc6e"
      },
      "outputs": [],
      "source": [
        "X_train, X_validation, y_train, y_validation = train_test_split(X_train, y_train, test_size = 0.2, random_state = 0)"
      ]
    },
    {
      "cell_type": "code",
      "execution_count": null,
      "id": "553e593a",
      "metadata": {
        "execution": {
          "iopub.execute_input": "2022-07-25T14:59:50.849544Z",
          "iopub.status.busy": "2022-07-25T14:59:50.848810Z",
          "iopub.status.idle": "2022-07-25T14:59:50.856423Z",
          "shell.execute_reply": "2022-07-25T14:59:50.854746Z"
        },
        "papermill": {
          "duration": 0.022831,
          "end_time": "2022-07-25T14:59:50.858937",
          "exception": false,
          "start_time": "2022-07-25T14:59:50.836106",
          "status": "completed"
        },
        "tags": [],
        "id": "553e593a",
        "outputId": "4a976418-4a11-4408-ce96-a1d103ebb91a"
      },
      "outputs": [
        {
          "name": "stdout",
          "output_type": "stream",
          "text": [
            "X_train shape: (192, 13)\n",
            "y_train shape: (192,)\n",
            "X_test shape: (61, 13)\n",
            "y_test shape: (61,)\n",
            "X_validation shape: (49, 13)\n",
            "y_validation shape: (49,)\n"
          ]
        }
      ],
      "source": [
        "print(\"X_train shape: {}\".format(X_train.shape))\n",
        "\n",
        "print(\"y_train shape: {}\".format(y_train.shape))\n",
        "\n",
        "print(\"X_test shape: {}\".format(X_test.shape))\n",
        "\n",
        "print(\"y_test shape: {}\".format(y_test.shape))\n",
        "\n",
        "print(\"X_validation shape: {}\".format(X_validation.shape))\n",
        "\n",
        "print(\"y_validation shape: {}\".format(y_validation.shape))"
      ]
    },
    {
      "cell_type": "code",
      "execution_count": null,
      "id": "c136aabc",
      "metadata": {
        "execution": {
          "iopub.execute_input": "2022-07-25T14:59:50.908994Z",
          "iopub.status.busy": "2022-07-25T14:59:50.908383Z",
          "iopub.status.idle": "2022-07-25T14:59:50.921940Z",
          "shell.execute_reply": "2022-07-25T14:59:50.920952Z"
        },
        "papermill": {
          "duration": 0.029288,
          "end_time": "2022-07-25T14:59:50.924676",
          "exception": false,
          "start_time": "2022-07-25T14:59:50.895388",
          "status": "completed"
        },
        "tags": [],
        "id": "c136aabc"
      },
      "outputs": [],
      "source": [
        "from sklearn.preprocessing import StandardScaler\n",
        "sc = StandardScaler()\n",
        "X_train = sc.fit_transform(X_train)\n",
        "X_test = sc.transform(X_test)\n",
        "X_validation = sc.transform(X_validation)"
      ]
    },
    {
      "cell_type": "code",
      "execution_count": null,
      "id": "9ea36786",
      "metadata": {
        "execution": {
          "iopub.execute_input": "2022-07-25T14:59:50.973279Z",
          "iopub.status.busy": "2022-07-25T14:59:50.972602Z",
          "iopub.status.idle": "2022-07-25T14:59:51.073011Z",
          "shell.execute_reply": "2022-07-25T14:59:51.071836Z"
        },
        "papermill": {
          "duration": 0.115666,
          "end_time": "2022-07-25T14:59:51.075429",
          "exception": false,
          "start_time": "2022-07-25T14:59:50.959763",
          "status": "completed"
        },
        "tags": [],
        "id": "9ea36786",
        "outputId": "066aaa42-3ce1-4fa3-d4eb-cf179c0a39a8"
      },
      "outputs": [
        {
          "data": {
            "text/plain": [
              "SVC()"
            ]
          },
          "execution_count": 17,
          "metadata": {},
          "output_type": "execute_result"
        }
      ],
      "source": [
        "from sklearn.svm import SVC\n",
        "classifier = SVC()\n",
        "classifier.fit(X_train, y_train)"
      ]
    },
    {
      "cell_type": "code",
      "execution_count": null,
      "id": "78f7ce50",
      "metadata": {
        "execution": {
          "iopub.execute_input": "2022-07-25T14:59:51.100658Z",
          "iopub.status.busy": "2022-07-25T14:59:51.099917Z",
          "iopub.status.idle": "2022-07-25T14:59:51.108705Z",
          "shell.execute_reply": "2022-07-25T14:59:51.107905Z"
        },
        "papermill": {
          "duration": 0.023686,
          "end_time": "2022-07-25T14:59:51.110803",
          "exception": false,
          "start_time": "2022-07-25T14:59:51.087117",
          "status": "completed"
        },
        "tags": [],
        "id": "78f7ce50",
        "outputId": "1b47d2aa-140c-43e7-8254-c72a7c998aa8"
      },
      "outputs": [
        {
          "data": {
            "text/plain": [
              "0.9114583333333334"
            ]
          },
          "execution_count": 18,
          "metadata": {},
          "output_type": "execute_result"
        }
      ],
      "source": [
        "classifier.score(X_train, y_train) "
      ]
    },
    {
      "cell_type": "code",
      "execution_count": null,
      "id": "cf9ef8ab",
      "metadata": {
        "execution": {
          "iopub.execute_input": "2022-07-25T14:59:51.159071Z",
          "iopub.status.busy": "2022-07-25T14:59:51.158361Z",
          "iopub.status.idle": "2022-07-25T14:59:51.165883Z",
          "shell.execute_reply": "2022-07-25T14:59:51.165128Z"
        },
        "papermill": {
          "duration": 0.022704,
          "end_time": "2022-07-25T14:59:51.168097",
          "exception": false,
          "start_time": "2022-07-25T14:59:51.145393",
          "status": "completed"
        },
        "tags": [],
        "id": "cf9ef8ab",
        "outputId": "c1ffd317-ce00-478f-8110-4a4761ff768e"
      },
      "outputs": [
        {
          "data": {
            "text/plain": [
              "0.8367346938775511"
            ]
          },
          "execution_count": 19,
          "metadata": {},
          "output_type": "execute_result"
        }
      ],
      "source": [
        "y_pred_val = classifier.predict(X_validation)\n",
        "accuracy_score(y_validation, y_pred_val)"
      ]
    },
    {
      "cell_type": "code",
      "execution_count": null,
      "id": "2fe93496",
      "metadata": {
        "execution": {
          "iopub.execute_input": "2022-07-25T14:59:51.217496Z",
          "iopub.status.busy": "2022-07-25T14:59:51.216764Z",
          "iopub.status.idle": "2022-07-25T14:59:51.226909Z",
          "shell.execute_reply": "2022-07-25T14:59:51.225422Z"
        },
        "papermill": {
          "duration": 0.026493,
          "end_time": "2022-07-25T14:59:51.229845",
          "exception": false,
          "start_time": "2022-07-25T14:59:51.203352",
          "status": "completed"
        },
        "scrolled": true,
        "tags": [],
        "id": "2fe93496",
        "outputId": "c32be075-0b43-4fbf-df8c-487fe84975f2"
      },
      "outputs": [
        {
          "name": "stdout",
          "output_type": "stream",
          "text": [
            "[1]\n"
          ]
        },
        {
          "name": "stderr",
          "output_type": "stream",
          "text": [
            "/opt/conda/lib/python3.7/site-packages/sklearn/base.py:451: UserWarning: X does not have valid feature names, but StandardScaler was fitted with feature names\n",
            "  \"X does not have valid feature names, but\"\n"
          ]
        }
      ],
      "source": [
        "print(classifier.predict(sc.transform([[20,1,3,120,200,0,1,144,0,2.5,2,0,2]])))"
      ]
    },
    {
      "cell_type": "code",
      "execution_count": null,
      "id": "2a7421b8",
      "metadata": {
        "execution": {
          "iopub.execute_input": "2022-07-25T14:59:51.279386Z",
          "iopub.status.busy": "2022-07-25T14:59:51.278982Z",
          "iopub.status.idle": "2022-07-25T14:59:51.286415Z",
          "shell.execute_reply": "2022-07-25T14:59:51.284788Z"
        },
        "papermill": {
          "duration": 0.025326,
          "end_time": "2022-07-25T14:59:51.290641",
          "exception": false,
          "start_time": "2022-07-25T14:59:51.265315",
          "status": "completed"
        },
        "tags": [],
        "id": "2a7421b8",
        "outputId": "a0ecb826-7a4f-4b57-b1da-4213ffe45c0b"
      },
      "outputs": [
        {
          "name": "stdout",
          "output_type": "stream",
          "text": [
            "The test accuracy score of SVM is  0.8852459016393442\n"
          ]
        }
      ],
      "source": [
        "y_pred = classifier.predict(X_test)\n",
        "\n",
        "print(\"The test accuracy score of SVM is \", accuracy_score(y_test, y_pred))"
      ]
    },
    {
      "cell_type": "code",
      "execution_count": null,
      "id": "dde25302",
      "metadata": {
        "execution": {
          "iopub.execute_input": "2022-07-25T14:59:51.340747Z",
          "iopub.status.busy": "2022-07-25T14:59:51.340118Z",
          "iopub.status.idle": "2022-07-25T14:59:51.352538Z",
          "shell.execute_reply": "2022-07-25T14:59:51.351125Z"
        },
        "papermill": {
          "duration": 0.028884,
          "end_time": "2022-07-25T14:59:51.355590",
          "exception": false,
          "start_time": "2022-07-25T14:59:51.326706",
          "status": "completed"
        },
        "tags": [],
        "id": "dde25302",
        "outputId": "5b3c1957-0a76-4689-af1f-763c7d757ed6"
      },
      "outputs": [
        {
          "name": "stdout",
          "output_type": "stream",
          "text": [
            "[[26  3]\n",
            " [ 4 28]]\n"
          ]
        },
        {
          "data": {
            "text/plain": [
              "0.8852459016393442"
            ]
          },
          "execution_count": 22,
          "metadata": {},
          "output_type": "execute_result"
        }
      ],
      "source": [
        "from sklearn.metrics import confusion_matrix, accuracy_score \n",
        "cm = confusion_matrix(y_test, y_pred)\n",
        "print(cm)\n",
        "accuracy_score(y_test, y_pred)"
      ]
    },
    {
      "cell_type": "code",
      "execution_count": null,
      "id": "42f40aca",
      "metadata": {
        "execution": {
          "iopub.execute_input": "2022-07-25T14:59:51.406169Z",
          "iopub.status.busy": "2022-07-25T14:59:51.405378Z",
          "iopub.status.idle": "2022-07-25T14:59:51.412191Z",
          "shell.execute_reply": "2022-07-25T14:59:51.411156Z"
        },
        "papermill": {
          "duration": 0.022476,
          "end_time": "2022-07-25T14:59:51.414677",
          "exception": false,
          "start_time": "2022-07-25T14:59:51.392201",
          "status": "completed"
        },
        "tags": [],
        "id": "42f40aca"
      },
      "outputs": [],
      "source": [
        "from sklearn.metrics import roc_curve, auc\n",
        "y_pred = classifier.predict(X_test).ravel()"
      ]
    },
    {
      "cell_type": "code",
      "execution_count": null,
      "id": "17b78796",
      "metadata": {
        "execution": {
          "iopub.execute_input": "2022-07-25T14:59:51.441218Z",
          "iopub.status.busy": "2022-07-25T14:59:51.440811Z",
          "iopub.status.idle": "2022-07-25T14:59:51.797159Z",
          "shell.execute_reply": "2022-07-25T14:59:51.795899Z"
        },
        "papermill": {
          "duration": 0.372266,
          "end_time": "2022-07-25T14:59:51.799648",
          "exception": false,
          "start_time": "2022-07-25T14:59:51.427382",
          "status": "completed"
        },
        "tags": [],
        "id": "17b78796",
        "outputId": "59d4f767-16fc-49d2-df79-46f4e35fa574"
      },
      "outputs": [
        {
          "data": {
            "text/plain": [
              "[<matplotlib.lines.Line2D at 0x7f0fff73f450>]"
            ]
          },
          "execution_count": 24,
          "metadata": {},
          "output_type": "execute_result"
        },
        {
          "data": {
            "image/png": "[encoded data removed]",
            "text/plain": [
              "<Figure size 432x288 with 1 Axes>"
            ]
          },
          "metadata": {
            "needs_background": "light"
          },
          "output_type": "display_data"
        }
      ],
      "source": [
        "nn_fpr_keras, nn_tpr_keras, nn_thresholds_keras = roc_curve(y_test  , y_pred)\n",
        "auc_keras = auc(nn_fpr_keras, nn_tpr_keras)\n",
        "plt.plot(nn_fpr_keras, nn_tpr_keras, marker='.', label='SVM' % auc_keras)"
      ]
    },
    {
      "cell_type": "code",
      "execution_count": null,
      "id": "fb3b126f",
      "metadata": {
        "execution": {
          "iopub.execute_input": "2022-07-25T14:59:51.826709Z",
          "iopub.status.busy": "2022-07-25T14:59:51.826337Z",
          "iopub.status.idle": "2022-07-25T14:59:51.941681Z",
          "shell.execute_reply": "2022-07-25T14:59:51.940535Z"
        },
        "papermill": {
          "duration": 0.131611,
          "end_time": "2022-07-25T14:59:51.944260",
          "exception": false,
          "start_time": "2022-07-25T14:59:51.812649",
          "status": "completed"
        },
        "tags": [],
        "id": "fb3b126f",
        "outputId": "3554326e-c16f-4bd5-d055-ec1d97f7eaee"
      },
      "outputs": [
        {
          "data": {
            "image/png": "[encoded data removed]",
            "text/plain": [
              "<Figure size 432x288 with 1 Axes>"
            ]
          },
          "metadata": {
            "needs_background": "light"
          },
          "output_type": "display_data"
        }
      ],
      "source": [
        "# instantiating the roc_cruve\n",
        "fpr,tpr,threshols=roc_curve(y_test,y_pred)\n",
        "\n",
        "# plotting the curve\n",
        "plt.plot([0,1],[0,1],\"k--\",'r+')\n",
        "plt.plot(fpr,tpr,label='SVM')\n",
        "plt.xlabel(\"False Positive Rate\")\n",
        "plt.ylabel(\"True Positive Rate\")\n",
        "plt.title(\"SVM ROC Curve\")\n",
        "plt.show()"
      ]
    },
    {
      "cell_type": "code",
      "execution_count": null,
      "id": "a2ade8fc",
      "metadata": {
        "execution": {
          "iopub.execute_input": "2022-07-25T14:59:51.998902Z",
          "iopub.status.busy": "2022-07-25T14:59:51.998166Z",
          "iopub.status.idle": "2022-07-25T14:59:52.301621Z",
          "shell.execute_reply": "2022-07-25T14:59:52.300441Z"
        },
        "papermill": {
          "duration": 0.32064,
          "end_time": "2022-07-25T14:59:52.304422",
          "exception": false,
          "start_time": "2022-07-25T14:59:51.983782",
          "status": "completed"
        },
        "tags": [],
        "id": "a2ade8fc",
        "outputId": "7ab976db-3eb5-4c7b-9dc3-f0f2fbe1a459"
      },
      "outputs": [
        {
          "data": {
            "image/png": "[encoded data removed]",
            "text/plain": [
              "<Figure size 640x480 with 1 Axes>"
            ]
          },
          "metadata": {},
          "output_type": "display_data"
        }
      ],
      "source": [
        "from mlxtend.plotting import plot_learning_curves\n",
        "plot_learning_curves(X_train, y_train, X_test, y_test, classifier)\n",
        "plt.show()"
      ]
    },
    {
      "cell_type": "code",
      "execution_count": null,
      "id": "6f475294",
      "metadata": {
        "papermill": {
          "duration": 0.013638,
          "end_time": "2022-07-25T14:59:52.331753",
          "exception": false,
          "start_time": "2022-07-25T14:59:52.318115",
          "status": "completed"
        },
        "tags": [],
        "id": "6f475294"
      },
      "outputs": [],
      "source": []
    }
  ],
  "metadata": {
    "kernelspec": {
      "display_name": "Python 3",
      "language": "python",
      "name": "python3"
    },
    "language_info": {
      "codemirror_mode": {
        "name": "ipython",
        "version": 3
      },
      "file_extension": ".py",
      "mimetype": "text/x-python",
      "name": "python",
      "nbconvert_exporter": "python",
      "pygments_lexer": "ipython3",
      "version": "3.7.12"
    },
    "papermill": {
      "default_parameters": {},
      "duration": 23.701014,
      "end_time": "2022-07-25T14:59:55.874440",
      "environment_variables": {},
      "exception": null,
      "input_path": "__notebook__.ipynb",
      "output_path": "__notebook__.ipynb",
      "parameters": {},
      "start_time": "2022-07-25T14:59:32.173426",
      "version": "2.3.4"
    },
    "colab": {
      "name": "heart attack svm.ipynb",
      "provenance": [],
      "collapsed_sections": []
    }
  },
  "nbformat": 4,
  "nbformat_minor": 5
}